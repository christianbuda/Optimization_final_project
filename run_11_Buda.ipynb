{
  "nbformat": 4,
  "nbformat_minor": 0,
  "metadata": {
    "colab": {
      "provenance": []
    },
    "kernelspec": {
      "name": "python3",
      "display_name": "Python 3"
    },
    "language_info": {
      "name": "python"
    },
    "widgets": {
      "application/vnd.jupyter.widget-state+json": {
        "e905987b1ad44b87929132a9679b1ec8": {
          "model_module": "@jupyter-widgets/controls",
          "model_name": "HBoxModel",
          "model_module_version": "1.5.0",
          "state": {
            "_dom_classes": [],
            "_model_module": "@jupyter-widgets/controls",
            "_model_module_version": "1.5.0",
            "_model_name": "HBoxModel",
            "_view_count": null,
            "_view_module": "@jupyter-widgets/controls",
            "_view_module_version": "1.5.0",
            "_view_name": "HBoxView",
            "box_style": "",
            "children": [
              "IPY_MODEL_c47a4fa59ee64dd9b729d260849ca285",
              "IPY_MODEL_7188b716a7fd42d0a5bb375d580f9cd5",
              "IPY_MODEL_5d02a57d9a4f45b28cf0d56068468aa2"
            ],
            "layout": "IPY_MODEL_fc240eba6e2547019f930df9978e0e78"
          }
        },
        "c47a4fa59ee64dd9b729d260849ca285": {
          "model_module": "@jupyter-widgets/controls",
          "model_name": "HTMLModel",
          "model_module_version": "1.5.0",
          "state": {
            "_dom_classes": [],
            "_model_module": "@jupyter-widgets/controls",
            "_model_module_version": "1.5.0",
            "_model_name": "HTMLModel",
            "_view_count": null,
            "_view_module": "@jupyter-widgets/controls",
            "_view_module_version": "1.5.0",
            "_view_name": "HTMLView",
            "description": "",
            "description_tooltip": null,
            "layout": "IPY_MODEL_aa1e7520b67e43ec9e4e9893201ddc56",
            "placeholder": "​",
            "style": "IPY_MODEL_54738a25d4c646b2adea16010b78d09d",
            "value": "100%"
          }
        },
        "7188b716a7fd42d0a5bb375d580f9cd5": {
          "model_module": "@jupyter-widgets/controls",
          "model_name": "FloatProgressModel",
          "model_module_version": "1.5.0",
          "state": {
            "_dom_classes": [],
            "_model_module": "@jupyter-widgets/controls",
            "_model_module_version": "1.5.0",
            "_model_name": "FloatProgressModel",
            "_view_count": null,
            "_view_module": "@jupyter-widgets/controls",
            "_view_module_version": "1.5.0",
            "_view_name": "ProgressView",
            "bar_style": "success",
            "description": "",
            "description_tooltip": null,
            "layout": "IPY_MODEL_42f32cf34f5a41199b9957eaeb0d7bb0",
            "max": 80,
            "min": 0,
            "orientation": "horizontal",
            "style": "IPY_MODEL_3682df6468374fbeab0ef87d775f9e49",
            "value": 80
          }
        },
        "5d02a57d9a4f45b28cf0d56068468aa2": {
          "model_module": "@jupyter-widgets/controls",
          "model_name": "HTMLModel",
          "model_module_version": "1.5.0",
          "state": {
            "_dom_classes": [],
            "_model_module": "@jupyter-widgets/controls",
            "_model_module_version": "1.5.0",
            "_model_name": "HTMLModel",
            "_view_count": null,
            "_view_module": "@jupyter-widgets/controls",
            "_view_module_version": "1.5.0",
            "_view_name": "HTMLView",
            "description": "",
            "description_tooltip": null,
            "layout": "IPY_MODEL_2e893332bf464a8d818cd741c41d4ba4",
            "placeholder": "​",
            "style": "IPY_MODEL_e7b68053ebb44f06bdd9bacf74334bdb",
            "value": " 80/80 [00:14&lt;00:00,  1.49it/s]"
          }
        },
        "fc240eba6e2547019f930df9978e0e78": {
          "model_module": "@jupyter-widgets/base",
          "model_name": "LayoutModel",
          "model_module_version": "1.2.0",
          "state": {
            "_model_module": "@jupyter-widgets/base",
            "_model_module_version": "1.2.0",
            "_model_name": "LayoutModel",
            "_view_count": null,
            "_view_module": "@jupyter-widgets/base",
            "_view_module_version": "1.2.0",
            "_view_name": "LayoutView",
            "align_content": null,
            "align_items": null,
            "align_self": null,
            "border": null,
            "bottom": null,
            "display": null,
            "flex": null,
            "flex_flow": null,
            "grid_area": null,
            "grid_auto_columns": null,
            "grid_auto_flow": null,
            "grid_auto_rows": null,
            "grid_column": null,
            "grid_gap": null,
            "grid_row": null,
            "grid_template_areas": null,
            "grid_template_columns": null,
            "grid_template_rows": null,
            "height": null,
            "justify_content": null,
            "justify_items": null,
            "left": null,
            "margin": null,
            "max_height": null,
            "max_width": null,
            "min_height": null,
            "min_width": null,
            "object_fit": null,
            "object_position": null,
            "order": null,
            "overflow": null,
            "overflow_x": null,
            "overflow_y": null,
            "padding": null,
            "right": null,
            "top": null,
            "visibility": null,
            "width": null
          }
        },
        "aa1e7520b67e43ec9e4e9893201ddc56": {
          "model_module": "@jupyter-widgets/base",
          "model_name": "LayoutModel",
          "model_module_version": "1.2.0",
          "state": {
            "_model_module": "@jupyter-widgets/base",
            "_model_module_version": "1.2.0",
            "_model_name": "LayoutModel",
            "_view_count": null,
            "_view_module": "@jupyter-widgets/base",
            "_view_module_version": "1.2.0",
            "_view_name": "LayoutView",
            "align_content": null,
            "align_items": null,
            "align_self": null,
            "border": null,
            "bottom": null,
            "display": null,
            "flex": null,
            "flex_flow": null,
            "grid_area": null,
            "grid_auto_columns": null,
            "grid_auto_flow": null,
            "grid_auto_rows": null,
            "grid_column": null,
            "grid_gap": null,
            "grid_row": null,
            "grid_template_areas": null,
            "grid_template_columns": null,
            "grid_template_rows": null,
            "height": null,
            "justify_content": null,
            "justify_items": null,
            "left": null,
            "margin": null,
            "max_height": null,
            "max_width": null,
            "min_height": null,
            "min_width": null,
            "object_fit": null,
            "object_position": null,
            "order": null,
            "overflow": null,
            "overflow_x": null,
            "overflow_y": null,
            "padding": null,
            "right": null,
            "top": null,
            "visibility": null,
            "width": null
          }
        },
        "54738a25d4c646b2adea16010b78d09d": {
          "model_module": "@jupyter-widgets/controls",
          "model_name": "DescriptionStyleModel",
          "model_module_version": "1.5.0",
          "state": {
            "_model_module": "@jupyter-widgets/controls",
            "_model_module_version": "1.5.0",
            "_model_name": "DescriptionStyleModel",
            "_view_count": null,
            "_view_module": "@jupyter-widgets/base",
            "_view_module_version": "1.2.0",
            "_view_name": "StyleView",
            "description_width": ""
          }
        },
        "42f32cf34f5a41199b9957eaeb0d7bb0": {
          "model_module": "@jupyter-widgets/base",
          "model_name": "LayoutModel",
          "model_module_version": "1.2.0",
          "state": {
            "_model_module": "@jupyter-widgets/base",
            "_model_module_version": "1.2.0",
            "_model_name": "LayoutModel",
            "_view_count": null,
            "_view_module": "@jupyter-widgets/base",
            "_view_module_version": "1.2.0",
            "_view_name": "LayoutView",
            "align_content": null,
            "align_items": null,
            "align_self": null,
            "border": null,
            "bottom": null,
            "display": null,
            "flex": null,
            "flex_flow": null,
            "grid_area": null,
            "grid_auto_columns": null,
            "grid_auto_flow": null,
            "grid_auto_rows": null,
            "grid_column": null,
            "grid_gap": null,
            "grid_row": null,
            "grid_template_areas": null,
            "grid_template_columns": null,
            "grid_template_rows": null,
            "height": null,
            "justify_content": null,
            "justify_items": null,
            "left": null,
            "margin": null,
            "max_height": null,
            "max_width": null,
            "min_height": null,
            "min_width": null,
            "object_fit": null,
            "object_position": null,
            "order": null,
            "overflow": null,
            "overflow_x": null,
            "overflow_y": null,
            "padding": null,
            "right": null,
            "top": null,
            "visibility": null,
            "width": null
          }
        },
        "3682df6468374fbeab0ef87d775f9e49": {
          "model_module": "@jupyter-widgets/controls",
          "model_name": "ProgressStyleModel",
          "model_module_version": "1.5.0",
          "state": {
            "_model_module": "@jupyter-widgets/controls",
            "_model_module_version": "1.5.0",
            "_model_name": "ProgressStyleModel",
            "_view_count": null,
            "_view_module": "@jupyter-widgets/base",
            "_view_module_version": "1.2.0",
            "_view_name": "StyleView",
            "bar_color": null,
            "description_width": ""
          }
        },
        "2e893332bf464a8d818cd741c41d4ba4": {
          "model_module": "@jupyter-widgets/base",
          "model_name": "LayoutModel",
          "model_module_version": "1.2.0",
          "state": {
            "_model_module": "@jupyter-widgets/base",
            "_model_module_version": "1.2.0",
            "_model_name": "LayoutModel",
            "_view_count": null,
            "_view_module": "@jupyter-widgets/base",
            "_view_module_version": "1.2.0",
            "_view_name": "LayoutView",
            "align_content": null,
            "align_items": null,
            "align_self": null,
            "border": null,
            "bottom": null,
            "display": null,
            "flex": null,
            "flex_flow": null,
            "grid_area": null,
            "grid_auto_columns": null,
            "grid_auto_flow": null,
            "grid_auto_rows": null,
            "grid_column": null,
            "grid_gap": null,
            "grid_row": null,
            "grid_template_areas": null,
            "grid_template_columns": null,
            "grid_template_rows": null,
            "height": null,
            "justify_content": null,
            "justify_items": null,
            "left": null,
            "margin": null,
            "max_height": null,
            "max_width": null,
            "min_height": null,
            "min_width": null,
            "object_fit": null,
            "object_position": null,
            "order": null,
            "overflow": null,
            "overflow_x": null,
            "overflow_y": null,
            "padding": null,
            "right": null,
            "top": null,
            "visibility": null,
            "width": null
          }
        },
        "e7b68053ebb44f06bdd9bacf74334bdb": {
          "model_module": "@jupyter-widgets/controls",
          "model_name": "DescriptionStyleModel",
          "model_module_version": "1.5.0",
          "state": {
            "_model_module": "@jupyter-widgets/controls",
            "_model_module_version": "1.5.0",
            "_model_name": "DescriptionStyleModel",
            "_view_count": null,
            "_view_module": "@jupyter-widgets/base",
            "_view_module_version": "1.2.0",
            "_view_name": "StyleView",
            "description_width": ""
          }
        }
      }
    }
  },
  "cells": [
    {
      "cell_type": "code",
      "execution_count": 1,
      "metadata": {
        "id": "dPdunAjgD94g"
      },
      "outputs": [],
      "source": [
        "from Functions_11_Buda import *\n",
        "\n",
        "# select the first 2 letters of my surname\n",
        "letters = ['B', 'U']"
      ]
    },
    {
      "cell_type": "code",
      "source": [
        "X_train, y_train, X_test, y_test = NN_data_loading(*letters)\n",
        "cvres = GridSearchCV(X_train, y_train, get_model_MLP, {'H' : [1,2,3,4], 'N' : [1,2,4,8,16], 'sigma': [1e-2,1e-1,1,10]}, k = 5, input_dim = X_train.shape[1])"
      ],
      "metadata": {
        "colab": {
          "base_uri": "https://localhost:8080/",
          "height": 49,
          "referenced_widgets": [
            "e905987b1ad44b87929132a9679b1ec8",
            "c47a4fa59ee64dd9b729d260849ca285",
            "7188b716a7fd42d0a5bb375d580f9cd5",
            "5d02a57d9a4f45b28cf0d56068468aa2",
            "fc240eba6e2547019f930df9978e0e78",
            "aa1e7520b67e43ec9e4e9893201ddc56",
            "54738a25d4c646b2adea16010b78d09d",
            "42f32cf34f5a41199b9957eaeb0d7bb0",
            "3682df6468374fbeab0ef87d775f9e49",
            "2e893332bf464a8d818cd741c41d4ba4",
            "e7b68053ebb44f06bdd9bacf74334bdb"
          ]
        },
        "id": "zgsK0ZnTEGiw",
        "outputId": "d18aee14-945c-48f3-8be5-686289ed9e8e"
      },
      "execution_count": 2,
      "outputs": [
        {
          "output_type": "display_data",
          "data": {
            "text/plain": [
              "  0%|          | 0/80 [00:00<?, ?it/s]"
            ],
            "application/vnd.jupyter.widget-view+json": {
              "version_major": 2,
              "version_minor": 0,
              "model_id": "e905987b1ad44b87929132a9679b1ec8"
            }
          },
          "metadata": {}
        }
      ]
    },
    {
      "cell_type": "code",
      "source": [
        "print(f\"The best MLP architecture was the one with {cvres['best_params']['H']} hidden layers of {cvres['best_params']['N']} neurons each. It was trained with ρ = {cvres['best_model'].rho} and σ = {cvres['best_params']['sigma']} (parameter of the activation function).\")\n",
        "print(f\"The optimization was performed using {cvres['best_model'].optimization_solver}.\")\n",
        "print(f\"The optimizer called the objective {cvres['best_model'].nfev} times, and called the gradient of the objective {cvres['best_model'].njev} times.\")\n",
        "print(f\"Time necessary for the optimization = {cvres['best_model'].exec_time} seconds\")\n",
        "print(f\"Starting value of the training error (on the complete training dataset) = {cvres['best_model'].initial_error}\")\n",
        "print(f\"Final value of the training error (on the complete training dataset) = {cvres['best_model'].compute_loss(X_train, y_train, regularized = False)}\")\n",
        "print(f\"Final value of the test error = {cvres['best_model'].compute_loss(X_test, y_test, regularized = False)}\")\n",
        "\n",
        "# print(f\"Number of optimization iterations = {cvres['best_model'].n_iter}\")\n",
        "# print(f\"Message from the optimizer:\", cvres['best_model'].opt_message)\n",
        "# print(f\"Average crossvalidation accuracy = {cvres['best_val_acc']}\")\n",
        "# print(f\"Starting value of the training accuracy (on the complete training dataset) = {cvres['best_model'].initial_accuracy}\")\n",
        "# print(f\"Final value of the training accuracy (on the complete training dataset)= {cvres['best_model'].evaluate(X_train, y_train)}\")\n",
        "# print(f\"Final value of the test accuracy = {cvres['best_model'].evaluate(X_test, y_test)}\")\n",
        "# print(f\"Average crossvalidation error = {cvres['bestmodel_val_err']}\")\n",
        "# print(f\"Starting value of the objective (on the complete training dataset) = {cvres['best_model'].starting_obj}\")\n",
        "# print(f\"Final value of the objective (on the complete training dataset) = {cvres['best_model'].compute_loss(X_train, y_train, regularized = True)}\")\n",
        "# plot_confusion_matrices(cvres['best_model'], X_train, y_train, X_test, y_test, letters)"
      ],
      "metadata": {
        "colab": {
          "base_uri": "https://localhost:8080/"
        },
        "id": "ZWtFmJUPELlD",
        "outputId": "1d0baf90-0107-47d0-abe4-a14b605b5101"
      },
      "execution_count": 7,
      "outputs": [
        {
          "output_type": "stream",
          "name": "stdout",
          "text": [
            "The best MLP architecture was the one with 1 hidden layers of 8 neurons each. It was trained with ρ = 0.0001 and σ = 1 (parameter of the activation function).\n",
            "The optimization was performed using L-BFGS-B.\n",
            "The optimizer called the objective 28 times, and called the gradient of the objective 28 times.\n",
            "Time necessary for the optimization = 0.10459518432617188 seconds\n",
            "Starting value of the training error (on the complete training dataset) = 0.6931853552877937\n",
            "Final value of the training error (on the complete training dataset) = 0.0009147855576745367\n",
            "Final value of the test error = 0.002661681487177827\n"
          ]
        }
      ]
    }
  ]
}