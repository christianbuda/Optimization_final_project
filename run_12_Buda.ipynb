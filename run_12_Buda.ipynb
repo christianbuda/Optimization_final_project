{
  "nbformat": 4,
  "nbformat_minor": 0,
  "metadata": {
    "colab": {
      "provenance": []
    },
    "kernelspec": {
      "name": "python3",
      "display_name": "Python 3"
    },
    "language_info": {
      "name": "python"
    },
    "widgets": {
      "application/vnd.jupyter.widget-state+json": {
        "f09ad8fbad4f4e7eb75efe044efdd24e": {
          "model_module": "@jupyter-widgets/controls",
          "model_name": "HBoxModel",
          "model_module_version": "1.5.0",
          "state": {
            "_dom_classes": [],
            "_model_module": "@jupyter-widgets/controls",
            "_model_module_version": "1.5.0",
            "_model_name": "HBoxModel",
            "_view_count": null,
            "_view_module": "@jupyter-widgets/controls",
            "_view_module_version": "1.5.0",
            "_view_name": "HBoxView",
            "box_style": "",
            "children": [
              "IPY_MODEL_4e34bdc052fb4ca387fecb0cafccb213",
              "IPY_MODEL_be629dc1ddd945fc91d2060bd7377823",
              "IPY_MODEL_786532c8fd2d44d8bb4d9a58ee0b5b56"
            ],
            "layout": "IPY_MODEL_235927ebecb94b83acfe9493a317e951"
          }
        },
        "4e34bdc052fb4ca387fecb0cafccb213": {
          "model_module": "@jupyter-widgets/controls",
          "model_name": "HTMLModel",
          "model_module_version": "1.5.0",
          "state": {
            "_dom_classes": [],
            "_model_module": "@jupyter-widgets/controls",
            "_model_module_version": "1.5.0",
            "_model_name": "HTMLModel",
            "_view_count": null,
            "_view_module": "@jupyter-widgets/controls",
            "_view_module_version": "1.5.0",
            "_view_name": "HTMLView",
            "description": "",
            "description_tooltip": null,
            "layout": "IPY_MODEL_135bfc23efdd4eaa83e46fdf83b36ced",
            "placeholder": "​",
            "style": "IPY_MODEL_1876416e08af4056981bfdf921f9665f",
            "value": "100%"
          }
        },
        "be629dc1ddd945fc91d2060bd7377823": {
          "model_module": "@jupyter-widgets/controls",
          "model_name": "FloatProgressModel",
          "model_module_version": "1.5.0",
          "state": {
            "_dom_classes": [],
            "_model_module": "@jupyter-widgets/controls",
            "_model_module_version": "1.5.0",
            "_model_name": "FloatProgressModel",
            "_view_count": null,
            "_view_module": "@jupyter-widgets/controls",
            "_view_module_version": "1.5.0",
            "_view_name": "ProgressView",
            "bar_style": "success",
            "description": "",
            "description_tooltip": null,
            "layout": "IPY_MODEL_65f1722de2524cb3a3a3be9630abf103",
            "max": 60,
            "min": 0,
            "orientation": "horizontal",
            "style": "IPY_MODEL_b3368e139cbf4a09b6ee76c88cdfc77a",
            "value": 60
          }
        },
        "786532c8fd2d44d8bb4d9a58ee0b5b56": {
          "model_module": "@jupyter-widgets/controls",
          "model_name": "HTMLModel",
          "model_module_version": "1.5.0",
          "state": {
            "_dom_classes": [],
            "_model_module": "@jupyter-widgets/controls",
            "_model_module_version": "1.5.0",
            "_model_name": "HTMLModel",
            "_view_count": null,
            "_view_module": "@jupyter-widgets/controls",
            "_view_module_version": "1.5.0",
            "_view_name": "HTMLView",
            "description": "",
            "description_tooltip": null,
            "layout": "IPY_MODEL_adbcd2bc9dbb4954a8dda7e6e8c5b9e6",
            "placeholder": "​",
            "style": "IPY_MODEL_26a7aea5fc784c96a2fa1534e8906f68",
            "value": " 60/60 [02:22&lt;00:00,  6.00s/it]"
          }
        },
        "235927ebecb94b83acfe9493a317e951": {
          "model_module": "@jupyter-widgets/base",
          "model_name": "LayoutModel",
          "model_module_version": "1.2.0",
          "state": {
            "_model_module": "@jupyter-widgets/base",
            "_model_module_version": "1.2.0",
            "_model_name": "LayoutModel",
            "_view_count": null,
            "_view_module": "@jupyter-widgets/base",
            "_view_module_version": "1.2.0",
            "_view_name": "LayoutView",
            "align_content": null,
            "align_items": null,
            "align_self": null,
            "border": null,
            "bottom": null,
            "display": null,
            "flex": null,
            "flex_flow": null,
            "grid_area": null,
            "grid_auto_columns": null,
            "grid_auto_flow": null,
            "grid_auto_rows": null,
            "grid_column": null,
            "grid_gap": null,
            "grid_row": null,
            "grid_template_areas": null,
            "grid_template_columns": null,
            "grid_template_rows": null,
            "height": null,
            "justify_content": null,
            "justify_items": null,
            "left": null,
            "margin": null,
            "max_height": null,
            "max_width": null,
            "min_height": null,
            "min_width": null,
            "object_fit": null,
            "object_position": null,
            "order": null,
            "overflow": null,
            "overflow_x": null,
            "overflow_y": null,
            "padding": null,
            "right": null,
            "top": null,
            "visibility": null,
            "width": null
          }
        },
        "135bfc23efdd4eaa83e46fdf83b36ced": {
          "model_module": "@jupyter-widgets/base",
          "model_name": "LayoutModel",
          "model_module_version": "1.2.0",
          "state": {
            "_model_module": "@jupyter-widgets/base",
            "_model_module_version": "1.2.0",
            "_model_name": "LayoutModel",
            "_view_count": null,
            "_view_module": "@jupyter-widgets/base",
            "_view_module_version": "1.2.0",
            "_view_name": "LayoutView",
            "align_content": null,
            "align_items": null,
            "align_self": null,
            "border": null,
            "bottom": null,
            "display": null,
            "flex": null,
            "flex_flow": null,
            "grid_area": null,
            "grid_auto_columns": null,
            "grid_auto_flow": null,
            "grid_auto_rows": null,
            "grid_column": null,
            "grid_gap": null,
            "grid_row": null,
            "grid_template_areas": null,
            "grid_template_columns": null,
            "grid_template_rows": null,
            "height": null,
            "justify_content": null,
            "justify_items": null,
            "left": null,
            "margin": null,
            "max_height": null,
            "max_width": null,
            "min_height": null,
            "min_width": null,
            "object_fit": null,
            "object_position": null,
            "order": null,
            "overflow": null,
            "overflow_x": null,
            "overflow_y": null,
            "padding": null,
            "right": null,
            "top": null,
            "visibility": null,
            "width": null
          }
        },
        "1876416e08af4056981bfdf921f9665f": {
          "model_module": "@jupyter-widgets/controls",
          "model_name": "DescriptionStyleModel",
          "model_module_version": "1.5.0",
          "state": {
            "_model_module": "@jupyter-widgets/controls",
            "_model_module_version": "1.5.0",
            "_model_name": "DescriptionStyleModel",
            "_view_count": null,
            "_view_module": "@jupyter-widgets/base",
            "_view_module_version": "1.2.0",
            "_view_name": "StyleView",
            "description_width": ""
          }
        },
        "65f1722de2524cb3a3a3be9630abf103": {
          "model_module": "@jupyter-widgets/base",
          "model_name": "LayoutModel",
          "model_module_version": "1.2.0",
          "state": {
            "_model_module": "@jupyter-widgets/base",
            "_model_module_version": "1.2.0",
            "_model_name": "LayoutModel",
            "_view_count": null,
            "_view_module": "@jupyter-widgets/base",
            "_view_module_version": "1.2.0",
            "_view_name": "LayoutView",
            "align_content": null,
            "align_items": null,
            "align_self": null,
            "border": null,
            "bottom": null,
            "display": null,
            "flex": null,
            "flex_flow": null,
            "grid_area": null,
            "grid_auto_columns": null,
            "grid_auto_flow": null,
            "grid_auto_rows": null,
            "grid_column": null,
            "grid_gap": null,
            "grid_row": null,
            "grid_template_areas": null,
            "grid_template_columns": null,
            "grid_template_rows": null,
            "height": null,
            "justify_content": null,
            "justify_items": null,
            "left": null,
            "margin": null,
            "max_height": null,
            "max_width": null,
            "min_height": null,
            "min_width": null,
            "object_fit": null,
            "object_position": null,
            "order": null,
            "overflow": null,
            "overflow_x": null,
            "overflow_y": null,
            "padding": null,
            "right": null,
            "top": null,
            "visibility": null,
            "width": null
          }
        },
        "b3368e139cbf4a09b6ee76c88cdfc77a": {
          "model_module": "@jupyter-widgets/controls",
          "model_name": "ProgressStyleModel",
          "model_module_version": "1.5.0",
          "state": {
            "_model_module": "@jupyter-widgets/controls",
            "_model_module_version": "1.5.0",
            "_model_name": "ProgressStyleModel",
            "_view_count": null,
            "_view_module": "@jupyter-widgets/base",
            "_view_module_version": "1.2.0",
            "_view_name": "StyleView",
            "bar_color": null,
            "description_width": ""
          }
        },
        "adbcd2bc9dbb4954a8dda7e6e8c5b9e6": {
          "model_module": "@jupyter-widgets/base",
          "model_name": "LayoutModel",
          "model_module_version": "1.2.0",
          "state": {
            "_model_module": "@jupyter-widgets/base",
            "_model_module_version": "1.2.0",
            "_model_name": "LayoutModel",
            "_view_count": null,
            "_view_module": "@jupyter-widgets/base",
            "_view_module_version": "1.2.0",
            "_view_name": "LayoutView",
            "align_content": null,
            "align_items": null,
            "align_self": null,
            "border": null,
            "bottom": null,
            "display": null,
            "flex": null,
            "flex_flow": null,
            "grid_area": null,
            "grid_auto_columns": null,
            "grid_auto_flow": null,
            "grid_auto_rows": null,
            "grid_column": null,
            "grid_gap": null,
            "grid_row": null,
            "grid_template_areas": null,
            "grid_template_columns": null,
            "grid_template_rows": null,
            "height": null,
            "justify_content": null,
            "justify_items": null,
            "left": null,
            "margin": null,
            "max_height": null,
            "max_width": null,
            "min_height": null,
            "min_width": null,
            "object_fit": null,
            "object_position": null,
            "order": null,
            "overflow": null,
            "overflow_x": null,
            "overflow_y": null,
            "padding": null,
            "right": null,
            "top": null,
            "visibility": null,
            "width": null
          }
        },
        "26a7aea5fc784c96a2fa1534e8906f68": {
          "model_module": "@jupyter-widgets/controls",
          "model_name": "DescriptionStyleModel",
          "model_module_version": "1.5.0",
          "state": {
            "_model_module": "@jupyter-widgets/controls",
            "_model_module_version": "1.5.0",
            "_model_name": "DescriptionStyleModel",
            "_view_count": null,
            "_view_module": "@jupyter-widgets/base",
            "_view_module_version": "1.2.0",
            "_view_name": "StyleView",
            "description_width": ""
          }
        }
      }
    }
  },
  "cells": [
    {
      "cell_type": "code",
      "execution_count": 1,
      "metadata": {
        "id": "t9obqOfYYRx7"
      },
      "outputs": [],
      "source": [
        "from Functions_12_Buda import *\n",
        "\n",
        "# select the first 2 letters of my surname\n",
        "letters = ['B', 'U']"
      ]
    },
    {
      "cell_type": "code",
      "source": [
        "X_train, y_train, X_test, y_test = NN_data_loading(*letters)\n",
        "cvres = GridSearchCV(X_train, y_train, get_model_RBF, {'rbf_type' : ['gaussian', 'multiquadric', 'invmultiquadric'], 'N' : [1,2,4,8,16], 'sigma': [1e-2,1e-1,1,10]}, k = 5, input_dim = X_train.shape[1])"
      ],
      "metadata": {
        "colab": {
          "base_uri": "https://localhost:8080/",
          "height": 49,
          "referenced_widgets": [
            "f09ad8fbad4f4e7eb75efe044efdd24e",
            "4e34bdc052fb4ca387fecb0cafccb213",
            "be629dc1ddd945fc91d2060bd7377823",
            "786532c8fd2d44d8bb4d9a58ee0b5b56",
            "235927ebecb94b83acfe9493a317e951",
            "135bfc23efdd4eaa83e46fdf83b36ced",
            "1876416e08af4056981bfdf921f9665f",
            "65f1722de2524cb3a3a3be9630abf103",
            "b3368e139cbf4a09b6ee76c88cdfc77a",
            "adbcd2bc9dbb4954a8dda7e6e8c5b9e6",
            "26a7aea5fc784c96a2fa1534e8906f68"
          ]
        },
        "id": "a9-a7smtYgTJ",
        "outputId": "104d5af2-bf10-4815-9931-8c15f7f64aa3"
      },
      "execution_count": 2,
      "outputs": [
        {
          "output_type": "display_data",
          "data": {
            "text/plain": [
              "  0%|          | 0/60 [00:00<?, ?it/s]"
            ],
            "application/vnd.jupyter.widget-view+json": {
              "version_major": 2,
              "version_minor": 0,
              "model_id": "f09ad8fbad4f4e7eb75efe044efdd24e"
            }
          },
          "metadata": {}
        }
      ]
    },
    {
      "cell_type": "code",
      "source": [
        "print(f\"The best RBF architecture was the one with a {cvres['best_params']['rbf_type']} kernel and {cvres['best_params']['N']} neurons. It was trained with ρ = {cvres['best_model'].rho} and σ = {cvres['best_params']['sigma']} (parameter of the rbf kernel).\")\n",
        "print(f\"The optimization in the first step was performed using {cvres['best_model'].optimization_solver}.\")\n",
        "print(f\"The optimizer called the objective {cvres['best_model'].nfev} times, called the gradient of the objective wrt the weights {cvres['best_model'].njev_w} times, and the gradient wrt the centers {cvres['best_model'].njev_c} times.\")\n",
        "print(f\"Time necessary for the optimization = {cvres['best_model'].exec_time} seconds\")\n",
        "print(f\"Number of optimization iterations = {cvres['best_model'].n_iter}\")\n",
        "print(f\"Starting value of the training error (on the complete training dataset) = {cvres['best_model'].initial_error}\")\n",
        "print(f\"Final value of the training error (on the complete training dataset) = {cvres['best_model'].compute_loss(X_train, y_train, regularized = False)}\")\n",
        "print(f\"Final value of the test error = {cvres['best_model'].compute_loss(X_test, y_test, regularized = False)}\")\n",
        "\n",
        "# print(f\"Average crossvalidation accuracy = {cvres['best_val_acc']}\")\n",
        "# print(f\"Starting value of the training accuracy (on the complete training dataset) = {cvres['best_model'].initial_accuracy}\")\n",
        "# print(f\"Final value of the training accuracy (on the complete training dataset)= {cvres['best_model'].evaluate(X_train, y_train)}\")\n",
        "# print(f\"Final value of the test accuracy = {cvres['best_model'].evaluate(X_test, y_test)}\")\n",
        "# print(f\"Average crossvalidation error = {cvres['bestmodel_val_err']}\")\n",
        "# print(f\"Starting value of the objective (on the complete training dataset) = {cvres['best_model'].starting_obj}\")\n",
        "# print(f\"Final value of the objective (on the complete training dataset) = {cvres['best_model'].compute_loss(X_train, y_train, regularized = True)}\")\n",
        "# plot_confusion_matrices(cvres['best_model'], X_train, y_train, X_test, y_test, letters)"
      ],
      "metadata": {
        "colab": {
          "base_uri": "https://localhost:8080/"
        },
        "id": "wq0L0daXYzgN",
        "outputId": "374a80f6-254d-4bc0-d5e7-26c8ecc7ff1f"
      },
      "execution_count": 7,
      "outputs": [
        {
          "output_type": "stream",
          "name": "stdout",
          "text": [
            "The best RBF architecture was the one with a invmultiquadric kernel and 16 neurons. It was trained with ρ = 0.0001 and σ = 10 (parameter of the rbf kernel).\n",
            "The optimization in the first step was performed using L-BFGS-B.\n",
            "The optimizer called the objective 985 times, called the gradient of the objective wrt the weights 850 times, and the gradient wrt the centers 266 times.\n",
            "Time necessary for the optimization = 12.961221694946289 seconds\n",
            "Number of optimization iterations = 266\n",
            "Starting value of the training error (on the complete training dataset) = 0.6931491718444696\n",
            "Final value of the training error (on the complete training dataset) = 0.031300829335780884\n",
            "Final value of the test error = 0.029939809705079205\n"
          ]
        }
      ]
    }
  ]
}